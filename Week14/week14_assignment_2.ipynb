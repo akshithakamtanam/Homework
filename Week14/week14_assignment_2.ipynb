{
  "cells": [
    {
      "cell_type": "markdown",
      "metadata": {
        "nbgrader": {
          "grade": false,
          "grade_id": "cell-fc1c39d0d6f8b82a",
          "locked": true,
          "schema_version": 1,
          "solution": false
        },
        "id": "8GpiO4mDOweV"
      },
      "source": [
        "# Week 14 Programming Assignment\n",
        "\n",
        "As you're working on identifying data for your final project, it's helpful to spend some time exploring your various data files.  For this week's assignment, I'd like you to take a few of the ideas from the the lectures, review assignment, and tonight's lecture to start exploring the data you plan to use for the final project.\n",
        "\n",
        "For the following activities, you can use just one of the data files that you've identified, or you can do the activities using different data files.  That's up to you.  Please describe what you're doing in a Markdown cell or in the comments of your code.  When you've completed the assignment, submit it as normal."
      ]
    },
    {
      "cell_type": "markdown",
      "metadata": {
        "id": "77pLm3HYOweW"
      },
      "source": [
        "### 1. Basic Statistics\n",
        "\n",
        "Use Python to read in your data file and show many rows and columns your data has."
      ]
    },
    {
      "cell_type": "code",
      "execution_count": 51,
      "metadata": {
        "colab": {
          "base_uri": "https://localhost:8080/"
        },
        "id": "B2cYcOXOOweX",
        "outputId": "9c20d860-90fd-49a6-d939-deda6fdbcdd7"
      },
      "outputs": [
        {
          "output_type": "execute_result",
          "data": {
            "text/plain": [
              "(876, 7)"
            ]
          },
          "metadata": {},
          "execution_count": 51
        }
      ],
      "source": [
        "import pandas as pd\n",
        "#read in data file using read_csv function\n",
        "df = pd.read_csv('/content/tobacco.csv')\n",
        "#first i will convert 4 columns which are in percentage string form, to float\n",
        "\n",
        "df['Smoke everyday'] = df['Smoke everyday'].str.rstrip('%').astype('float') / 100.0\n",
        "df['Never smoked'] = df['Never smoked'].str.rstrip('%').astype('float') / 100.0\n",
        "df['Former smoker'] = df['Former smoker'].str.rstrip('%').astype('float') / 100.0\n",
        "df['Smoke some days'] = df['Smoke some days'].str.rstrip('%').astype('float') / 100.0\n",
        "#use the shape function to see num of cols and rows\n",
        "df.shape"
      ]
    },
    {
      "cell_type": "markdown",
      "metadata": {
        "id": "QP3qLp3fOweX"
      },
      "source": [
        "### 2. Data Diversity\n",
        "\n",
        "Use Python to identify how many unique values each column in your data has.  Use Python to identify which column has the greatest number of distinct values (aka the most diversity)?  If your data has a unique identifier (e.g. a person or visit or record ID) then find the column with the next most number of unique values."
      ]
    },
    {
      "cell_type": "code",
      "execution_count": 52,
      "metadata": {
        "colab": {
          "base_uri": "https://localhost:8080/"
        },
        "id": "RNROR9K7OweY",
        "outputId": "68fcea64-0dd8-488c-f377-873fff835219"
      },
      "outputs": [
        {
          "output_type": "stream",
          "name": "stdout",
          "text": [
            "Column 'Year' has 16 distinct values.\n",
            "Column 'State' has 56 distinct values.\n",
            "Column 'Smoke everyday' has 187 distinct values.\n",
            "Column 'Smoke some days' has 65 distinct values.\n",
            "Column 'Former smoker' has 169 distinct values.\n",
            "Column 'Never smoked' has 208 distinct values.\n",
            "Column 'Location 1' has 56 distinct values.\n",
            "\n",
            "The column with the most distinct values is 'Never smoked' with 208 distinct values.\n"
          ]
        }
      ],
      "source": [
        "#now find column's distinct values count\n",
        "\n",
        "#initialize max unique counts variables\n",
        "max_distinct_values = 0\n",
        "max_distinct_column = None\n",
        "#looping over the columns\n",
        "for column in df.columns:\n",
        "    distinct_values_count = len(df[column].unique())#use len and  unique functions to get unique values count in columns\n",
        "    print(f\"Column '{column}' has {distinct_values_count} distinct values.\")\n",
        "    #update max unique values column\n",
        "    if distinct_values_count > max_distinct_values:\n",
        "        max_distinct_values = distinct_values_count\n",
        "        max_distinct_column = column\n",
        "#print it out\n",
        "print(f\"\\nThe column with the most distinct values is '{max_distinct_column}' with {max_distinct_values} distinct values.\")\n",
        "\n"
      ]
    },
    {
      "cell_type": "markdown",
      "metadata": {
        "id": "giwHIcC2OweY"
      },
      "source": [
        "### 3. Data Redundancy\n",
        "\n",
        "Use Python to identify any columns in your data where the value for every row is the same.  For example, if you had a gender column and all the rows said 'M', then you would want to write the code that helped you determine that."
      ]
    },
    {
      "cell_type": "code",
      "execution_count": 53,
      "metadata": {
        "colab": {
          "base_uri": "https://localhost:8080/"
        },
        "id": "A3KUBe0mOweY",
        "outputId": "92df5770-18e0-45b5-f23a-e23eb26f5d8b"
      },
      "outputs": [
        {
          "output_type": "stream",
          "name": "stdout",
          "text": [
            "Both columns are the same and one can be deleted\n"
          ]
        }
      ],
      "source": [
        "#comparing the columns state and location 1, to see if they are the exact same and maybe we can delete one\n",
        "if all(df['State']) == all(df['Location 1']):\n",
        "  print('Both columns are the same and one can be deleted')"
      ]
    },
    {
      "cell_type": "markdown",
      "metadata": {
        "id": "cW5iffPlOweY"
      },
      "source": [
        "### 4. Range of Values\n",
        "\n",
        "Your data almost certainly has some numeric columns that can be summed or averaged.  Create a histogram that shows the distribution of values for this column."
      ]
    },
    {
      "cell_type": "code",
      "execution_count": 54,
      "metadata": {
        "colab": {
          "base_uri": "https://localhost:8080/",
          "height": 447
        },
        "id": "e0y6OB67OweY",
        "outputId": "99a26ff5-e2d9-482e-e400-23ac384d67b8"
      },
      "outputs": [
        {
          "output_type": "execute_result",
          "data": {
            "text/plain": [
              "<Axes: >"
            ]
          },
          "metadata": {},
          "execution_count": 54
        },
        {
          "output_type": "display_data",
          "data": {
            "text/plain": [
              "<Figure size 640x480 with 1 Axes>"
            ],
            "image/png": "[encoded data removed]"
          },
          "metadata": {}
        }
      ],
      "source": [
        "#distribution of values for the float column 'smoke everyday'\n",
        "df['Smoke everyday'].hist()"
      ]
    },
    {
      "cell_type": "markdown",
      "metadata": {
        "id": "QEkqwZoiOweZ"
      },
      "source": [
        "### 5. Discussion\n",
        "\n",
        "Do any additional exploration of this data that you think may be interesting and include your code here.  Then go onto Slack and make a post about what you've observed.  Share your observation.  Share your code, if you like.  Share a screenshot of the data or a chart based on the data.\n",
        "\n",
        "Then comment on at least two other people's observations that they share on Slack.  (Use the reply as thread option in Slack to keep the conversation organized.)"
      ]
    },
    {
      "cell_type": "code",
      "execution_count": 55,
      "metadata": {
        "colab": {
          "base_uri": "https://localhost:8080/",
          "height": 845
        },
        "id": "8lUkQTCyOweZ",
        "outputId": "67704fe4-5236-4d72-9b94-22b6a92b361c"
      },
      "outputs": [
        {
          "output_type": "stream",
          "name": "stdout",
          "text": [
            "               Smoke everyday  Never smoked  Former smoker  Smoke some days\n",
            "State                                                                      \n",
            "Kentucky             0.248500      0.475625       0.234625         0.041500\n",
            "Guam                 0.229571      0.559714       0.146857         0.063857\n",
            "West Virginia        0.228313      0.486875       0.244375         0.040563\n",
            "Tennessee            0.209000      0.535312       0.214500         0.041000\n",
            "Indiana              0.207687      0.507375       0.234063         0.050938\n",
            "Missouri             0.207687      0.499750       0.247062         0.045375\n",
            "Oklahoma             0.202063      0.534937       0.215688         0.047125\n",
            "Ohio                 0.201688      0.513125       0.239750         0.045375\n",
            "Arkansas             0.199750      0.512687       0.240187         0.047313\n",
            "Nevada               0.198375      0.488563       0.257250         0.055750\n"
          ]
        },
        {
          "output_type": "execute_result",
          "data": {
            "text/plain": [
              "<Axes: xlabel='State'>"
            ]
          },
          "metadata": {},
          "execution_count": 55
        },
        {
          "output_type": "display_data",
          "data": {
            "text/plain": [
              "<Figure size 1000x600 with 1 Axes>"
            ],
            "image/png": "[encoded data removed]"
          },
          "metadata": {}
        }
      ],
      "source": [
        " #first I create a groupby object and use agg function to get the mean values for smoking statuses, and sort by smoke everyday status to get only top 10 states\n",
        "df_smokers = df.groupby('State').agg({\n",
        "     'Smoke everyday': 'mean',\n",
        "     'Never smoked': 'mean',\n",
        "     'Former smoker': 'mean',\n",
        "     'Smoke some days': 'mean'\n",
        " }).sort_values(by='Smoke everyday', ascending=False).head(10)\n",
        " #now I create bar plot from the data which shows the top 10 states for mean 'smoke everyday' status and the respective other smoking status mean values\n",
        "print(df_smokers)\n",
        "df_smokers.plot(kind='bar', figsize=(10, 6))"
      ]
    },
    {
      "cell_type": "markdown",
      "metadata": {
        "id": "Pnf0hI_yOweZ"
      },
      "source": [
        "\n",
        "\n",
        "---\n",
        "\n",
        "\n",
        "\n",
        "## Submitting Your Work\n",
        "\n",
        "Submit your work as usual."
      ]
    },
    {
      "cell_type": "code",
      "execution_count": 55,
      "metadata": {
        "id": "19jBkCNAOweZ"
      },
      "outputs": [],
      "source": []
    }
  ],
  "metadata": {
    "celltoolbar": "Create Assignment",
    "kernelspec": {
      "display_name": "Python 3",
      "language": "python",
      "name": "python3"
    },
    "language_info": {
      "codemirror_mode": {
        "name": "ipython",
        "version": 3
      },
      "file_extension": ".py",
      "mimetype": "text/x-python",
      "name": "python",
      "nbconvert_exporter": "python",
      "pygments_lexer": "ipython3",
      "version": "3.6.7"
    },
    "colab": {
      "provenance": []
    }
  },
  "nbformat": 4,
  "nbformat_minor": 0
}