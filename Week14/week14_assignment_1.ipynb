{
  "cells": [
    {
      "cell_type": "markdown",
      "metadata": {
        "nbgrader": {
          "grade": false,
          "grade_id": "cell-fc1c39d0d6f8b82a",
          "locked": true,
          "schema_version": 1,
          "solution": false
        },
        "id": "ebga8psILbZn"
      },
      "source": [
        "# Week 14 Review Assignmnet\n",
        "\n",
        "For the questions below, we're going to refer exclusively to an HHCAPS survey data set that is available in `/data/hhcaps.csv`.  Use whatever commands you want to calculate the information required to get to the answer.  Then, enter your answer in the answers cell as usual.\n",
        "\n",
        "**NOTE: Enter your answers as string values (inside quotation marks \"\") even if the answer is actually numeric.**\n",
        "\n",
        "---\n",
        "---\n"
      ]
    },
    {
      "cell_type": "code",
      "execution_count": 10,
      "metadata": {
        "nbgrader": {
          "grade": false,
          "grade_id": "intro",
          "locked": true,
          "schema_version": 1,
          "solution": false
        },
        "id": "ABjc5UPOLbZp"
      },
      "outputs": [],
      "source": [
        "%matplotlib inline\n",
        "import pandas as pd\n",
        "\n",
        "hhcaps = pd.read_csv('https://hds5210-data.s3.amazonaws.com/hhcaps.csv')"
      ]
    },
    {
      "cell_type": "markdown",
      "metadata": {
        "nbgrader": {
          "grade": false,
          "grade_id": "q01-intro",
          "locked": true,
          "schema_version": 1,
          "solution": false
        },
        "id": "Bmh3lj74LbZp"
      },
      "source": [
        "## #01 -\n",
        "\n",
        "How many columns does this file contain?"
      ]
    },
    {
      "cell_type": "code",
      "execution_count": 11,
      "metadata": {
        "id": "md5EpAaILbZq",
        "outputId": "6a249721-62ec-4ea9-b182-9709d9655539",
        "colab": {
          "base_uri": "https://localhost:8080/"
        }
      },
      "outputs": [
        {
          "output_type": "execute_result",
          "data": {
            "text/plain": [
              "39"
            ]
          },
          "metadata": {},
          "execution_count": 11
        }
      ],
      "source": [
        "# Write some code to figure it out\n",
        "len(hhcaps.columns)"
      ]
    },
    {
      "cell_type": "code",
      "execution_count": 12,
      "metadata": {
        "nbgrader": {
          "grade": false,
          "grade_id": "q01-solution",
          "locked": false,
          "schema_version": 1,
          "solution": true
        },
        "id": "QRVJV8TmLbZq"
      },
      "outputs": [],
      "source": [
        "answers={}\n",
        "answers['40.1'] = 39 # NOTE: Use a number, not string to answer this question"
      ]
    },
    {
      "cell_type": "markdown",
      "metadata": {
        "nbgrader": {
          "grade": false,
          "grade_id": "q02-intro",
          "locked": true,
          "schema_version": 1,
          "solution": false
        },
        "id": "TIm8RgF3LbZq"
      },
      "source": [
        "## #02 -\n",
        "\n",
        "How many different values for State are there in this file?"
      ]
    },
    {
      "cell_type": "code",
      "execution_count": 13,
      "metadata": {
        "id": "XNjTMcLbLbZs",
        "outputId": "5c9555e1-e642-4691-a258-ad8ceead61a2",
        "colab": {
          "base_uri": "https://localhost:8080/"
        }
      },
      "outputs": [
        {
          "output_type": "execute_result",
          "data": {
            "text/plain": [
              "55"
            ]
          },
          "metadata": {},
          "execution_count": 13
        }
      ],
      "source": [
        "# Write some code to figure it out\n",
        "len(hhcaps['State'].unique())"
      ]
    },
    {
      "cell_type": "code",
      "execution_count": 14,
      "metadata": {
        "nbgrader": {
          "grade": false,
          "grade_id": "q02-solution",
          "locked": false,
          "schema_version": 1,
          "solution": true
        },
        "id": "Aj4GyJDkLbZs"
      },
      "outputs": [],
      "source": [
        "answers['40.2'] = 55 # NOTE: Use a number, not a string to answer this question"
      ]
    },
    {
      "cell_type": "markdown",
      "metadata": {
        "nbgrader": {
          "grade": false,
          "grade_id": "q03-intro",
          "locked": true,
          "schema_version": 1,
          "solution": false
        },
        "id": "ct6_MNysLbZs"
      },
      "source": [
        "## #03 -\n",
        "\n",
        "Which of those State values has the highest frequency of occurence?"
      ]
    },
    {
      "cell_type": "code",
      "execution_count": 15,
      "metadata": {
        "nbgrader": {
          "grade": false,
          "grade_id": "q03-solution",
          "locked": false,
          "schema_version": 1,
          "solution": true
        },
        "id": "3mdPwI0KLbZt",
        "outputId": "afc99408-593c-45b1-8f5e-1a94ad1565c4",
        "colab": {
          "base_uri": "https://localhost:8080/",
          "height": 1000
        }
      },
      "outputs": [
        {
          "output_type": "execute_result",
          "data": {
            "text/plain": [
              "State\n",
              "TX    2518\n",
              "CA    1319\n",
              "FL    1069\n",
              "OH     781\n",
              "IL     735\n",
              "MI     597\n",
              "PA     425\n",
              "MA     261\n",
              "OK     256\n",
              "VA     244\n",
              "IN     229\n",
              "MN     197\n",
              "LA     195\n",
              "CO     187\n",
              "NC     174\n",
              "AR     172\n",
              "AZ     169\n",
              "MO     169\n",
              "IA     163\n",
              "AL     152\n",
              "NV     143\n",
              "NY     141\n",
              "TN     140\n",
              "WI     119\n",
              "KS     117\n",
              "GA     106\n",
              "KY     104\n",
              "UT      98\n",
              "CT      91\n",
              "NM      77\n",
              "NE      75\n",
              "SC      70\n",
              "WA      63\n",
              "WV      61\n",
              "OR      57\n",
              "MD      53\n",
              "MS      48\n",
              "NJ      47\n",
              "ID      45\n",
              "PR      45\n",
              "SD      33\n",
              "NH      31\n",
              "DC      28\n",
              "MT      27\n",
              "RI      27\n",
              "WY      26\n",
              "DE      26\n",
              "ME      24\n",
              "ND      18\n",
              "HI      16\n",
              "AK      14\n",
              "VT      11\n",
              "GU       4\n",
              "MP       2\n",
              "VI       1\n",
              "Name: count, dtype: int64"
            ],
            "text/html": [
              "<div>\n",
              "<style scoped>\n",
              "    .dataframe tbody tr th:only-of-type {\n",
              "        vertical-align: middle;\n",
              "    }\n",
              "\n",
              "    .dataframe tbody tr th {\n",
              "        vertical-align: top;\n",
              "    }\n",
              "\n",
              "    .dataframe thead th {\n",
              "        text-align: right;\n",
              "    }\n",
              "</style>\n",
              "<table border=\"1\" class=\"dataframe\">\n",
              "  <thead>\n",
              "    <tr style=\"text-align: right;\">\n",
              "      <th></th>\n",
              "      <th>count</th>\n",
              "    </tr>\n",
              "    <tr>\n",
              "      <th>State</th>\n",
              "      <th></th>\n",
              "    </tr>\n",
              "  </thead>\n",
              "  <tbody>\n",
              "    <tr>\n",
              "      <th>TX</th>\n",
              "      <td>2518</td>\n",
              "    </tr>\n",
              "    <tr>\n",
              "      <th>CA</th>\n",
              "      <td>1319</td>\n",
              "    </tr>\n",
              "    <tr>\n",
              "      <th>FL</th>\n",
              "      <td>1069</td>\n",
              "    </tr>\n",
              "    <tr>\n",
              "      <th>OH</th>\n",
              "      <td>781</td>\n",
              "    </tr>\n",
              "    <tr>\n",
              "      <th>IL</th>\n",
              "      <td>735</td>\n",
              "    </tr>\n",
              "    <tr>\n",
              "      <th>MI</th>\n",
              "      <td>597</td>\n",
              "    </tr>\n",
              "    <tr>\n",
              "      <th>PA</th>\n",
              "      <td>425</td>\n",
              "    </tr>\n",
              "    <tr>\n",
              "      <th>MA</th>\n",
              "      <td>261</td>\n",
              "    </tr>\n",
              "    <tr>\n",
              "      <th>OK</th>\n",
              "      <td>256</td>\n",
              "    </tr>\n",
              "    <tr>\n",
              "      <th>VA</th>\n",
              "      <td>244</td>\n",
              "    </tr>\n",
              "    <tr>\n",
              "      <th>IN</th>\n",
              "      <td>229</td>\n",
              "    </tr>\n",
              "    <tr>\n",
              "      <th>MN</th>\n",
              "      <td>197</td>\n",
              "    </tr>\n",
              "    <tr>\n",
              "      <th>LA</th>\n",
              "      <td>195</td>\n",
              "    </tr>\n",
              "    <tr>\n",
              "      <th>CO</th>\n",
              "      <td>187</td>\n",
              "    </tr>\n",
              "    <tr>\n",
              "      <th>NC</th>\n",
              "      <td>174</td>\n",
              "    </tr>\n",
              "    <tr>\n",
              "      <th>AR</th>\n",
              "      <td>172</td>\n",
              "    </tr>\n",
              "    <tr>\n",
              "      <th>AZ</th>\n",
              "      <td>169</td>\n",
              "    </tr>\n",
              "    <tr>\n",
              "      <th>MO</th>\n",
              "      <td>169</td>\n",
              "    </tr>\n",
              "    <tr>\n",
              "      <th>IA</th>\n",
              "      <td>163</td>\n",
              "    </tr>\n",
              "    <tr>\n",
              "      <th>AL</th>\n",
              "      <td>152</td>\n",
              "    </tr>\n",
              "    <tr>\n",
              "      <th>NV</th>\n",
              "      <td>143</td>\n",
              "    </tr>\n",
              "    <tr>\n",
              "      <th>NY</th>\n",
              "      <td>141</td>\n",
              "    </tr>\n",
              "    <tr>\n",
              "      <th>TN</th>\n",
              "      <td>140</td>\n",
              "    </tr>\n",
              "    <tr>\n",
              "      <th>WI</th>\n",
              "      <td>119</td>\n",
              "    </tr>\n",
              "    <tr>\n",
              "      <th>KS</th>\n",
              "      <td>117</td>\n",
              "    </tr>\n",
              "    <tr>\n",
              "      <th>GA</th>\n",
              "      <td>106</td>\n",
              "    </tr>\n",
              "    <tr>\n",
              "      <th>KY</th>\n",
              "      <td>104</td>\n",
              "    </tr>\n",
              "    <tr>\n",
              "      <th>UT</th>\n",
              "      <td>98</td>\n",
              "    </tr>\n",
              "    <tr>\n",
              "      <th>CT</th>\n",
              "      <td>91</td>\n",
              "    </tr>\n",
              "    <tr>\n",
              "      <th>NM</th>\n",
              "      <td>77</td>\n",
              "    </tr>\n",
              "    <tr>\n",
              "      <th>NE</th>\n",
              "      <td>75</td>\n",
              "    </tr>\n",
              "    <tr>\n",
              "      <th>SC</th>\n",
              "      <td>70</td>\n",
              "    </tr>\n",
              "    <tr>\n",
              "      <th>WA</th>\n",
              "      <td>63</td>\n",
              "    </tr>\n",
              "    <tr>\n",
              "      <th>WV</th>\n",
              "      <td>61</td>\n",
              "    </tr>\n",
              "    <tr>\n",
              "      <th>OR</th>\n",
              "      <td>57</td>\n",
              "    </tr>\n",
              "    <tr>\n",
              "      <th>MD</th>\n",
              "      <td>53</td>\n",
              "    </tr>\n",
              "    <tr>\n",
              "      <th>MS</th>\n",
              "      <td>48</td>\n",
              "    </tr>\n",
              "    <tr>\n",
              "      <th>NJ</th>\n",
              "      <td>47</td>\n",
              "    </tr>\n",
              "    <tr>\n",
              "      <th>ID</th>\n",
              "      <td>45</td>\n",
              "    </tr>\n",
              "    <tr>\n",
              "      <th>PR</th>\n",
              "      <td>45</td>\n",
              "    </tr>\n",
              "    <tr>\n",
              "      <th>SD</th>\n",
              "      <td>33</td>\n",
              "    </tr>\n",
              "    <tr>\n",
              "      <th>NH</th>\n",
              "      <td>31</td>\n",
              "    </tr>\n",
              "    <tr>\n",
              "      <th>DC</th>\n",
              "      <td>28</td>\n",
              "    </tr>\n",
              "    <tr>\n",
              "      <th>MT</th>\n",
              "      <td>27</td>\n",
              "    </tr>\n",
              "    <tr>\n",
              "      <th>RI</th>\n",
              "      <td>27</td>\n",
              "    </tr>\n",
              "    <tr>\n",
              "      <th>WY</th>\n",
              "      <td>26</td>\n",
              "    </tr>\n",
              "    <tr>\n",
              "      <th>DE</th>\n",
              "      <td>26</td>\n",
              "    </tr>\n",
              "    <tr>\n",
              "      <th>ME</th>\n",
              "      <td>24</td>\n",
              "    </tr>\n",
              "    <tr>\n",
              "      <th>ND</th>\n",
              "      <td>18</td>\n",
              "    </tr>\n",
              "    <tr>\n",
              "      <th>HI</th>\n",
              "      <td>16</td>\n",
              "    </tr>\n",
              "    <tr>\n",
              "      <th>AK</th>\n",
              "      <td>14</td>\n",
              "    </tr>\n",
              "    <tr>\n",
              "      <th>VT</th>\n",
              "      <td>11</td>\n",
              "    </tr>\n",
              "    <tr>\n",
              "      <th>GU</th>\n",
              "      <td>4</td>\n",
              "    </tr>\n",
              "    <tr>\n",
              "      <th>MP</th>\n",
              "      <td>2</td>\n",
              "    </tr>\n",
              "    <tr>\n",
              "      <th>VI</th>\n",
              "      <td>1</td>\n",
              "    </tr>\n",
              "  </tbody>\n",
              "</table>\n",
              "</div><br><label><b>dtype:</b> int64</label>"
            ]
          },
          "metadata": {},
          "execution_count": 15
        }
      ],
      "source": [
        "# Write some code to figure it out\n",
        "hhcaps['State'].value_counts()"
      ]
    },
    {
      "cell_type": "code",
      "execution_count": 16,
      "metadata": {
        "nbgrader": {
          "grade": true,
          "grade_id": "q03-test",
          "locked": true,
          "points": 2,
          "schema_version": 1,
          "solution": false
        },
        "id": "NS6hZcy9LbZt"
      },
      "outputs": [],
      "source": [
        "answers['40.3'] = \"TX\""
      ]
    },
    {
      "cell_type": "markdown",
      "metadata": {
        "nbgrader": {
          "grade": false,
          "grade_id": "q04-intro",
          "locked": true,
          "schema_version": 1,
          "solution": false
        },
        "id": "rJnum0mELbZt"
      },
      "source": [
        "## #04 -\n",
        "\n",
        "Which of those State values has the best average performance on the `Star Rating for health team communicated well with them` score?"
      ]
    },
    {
      "cell_type": "code",
      "execution_count": 17,
      "metadata": {
        "nbgrader": {
          "grade": false,
          "grade_id": "q04-solution",
          "locked": false,
          "schema_version": 1,
          "solution": true
        },
        "id": "6trndoh2LbZt",
        "outputId": "f6b17974-fdb7-4bf4-f9f1-06b5dc0a3978",
        "colab": {
          "base_uri": "https://localhost:8080/",
          "height": 146
        }
      },
      "outputs": [
        {
          "output_type": "execute_result",
          "data": {
            "text/plain": [
              "State\n",
              "ME    4.65\n",
              "Name: Star Rating for health team communicated well with them, dtype: float64"
            ],
            "text/html": [
              "<div>\n",
              "<style scoped>\n",
              "    .dataframe tbody tr th:only-of-type {\n",
              "        vertical-align: middle;\n",
              "    }\n",
              "\n",
              "    .dataframe tbody tr th {\n",
              "        vertical-align: top;\n",
              "    }\n",
              "\n",
              "    .dataframe thead th {\n",
              "        text-align: right;\n",
              "    }\n",
              "</style>\n",
              "<table border=\"1\" class=\"dataframe\">\n",
              "  <thead>\n",
              "    <tr style=\"text-align: right;\">\n",
              "      <th></th>\n",
              "      <th>Star Rating for health team communicated well with them</th>\n",
              "    </tr>\n",
              "    <tr>\n",
              "      <th>State</th>\n",
              "      <th></th>\n",
              "    </tr>\n",
              "  </thead>\n",
              "  <tbody>\n",
              "    <tr>\n",
              "      <th>ME</th>\n",
              "      <td>4.65</td>\n",
              "    </tr>\n",
              "  </tbody>\n",
              "</table>\n",
              "</div><br><label><b>dtype:</b> float64</label>"
            ]
          },
          "metadata": {},
          "execution_count": 17
        }
      ],
      "source": [
        "# Write some code to figure it out\n",
        "hhcaps.groupby('State')['Star Rating for health team communicated well with them'].mean().sort_values(ascending=False).head(1)"
      ]
    },
    {
      "cell_type": "code",
      "execution_count": 18,
      "metadata": {
        "nbgrader": {
          "grade": true,
          "grade_id": "q04-test",
          "locked": true,
          "points": 2,
          "schema_version": 1,
          "solution": false
        },
        "id": "TULd074LLbZu"
      },
      "outputs": [],
      "source": [
        "answers['40.4'] = \"ME\""
      ]
    },
    {
      "cell_type": "markdown",
      "metadata": {
        "nbgrader": {
          "grade": false,
          "grade_id": "q05-intro",
          "locked": true,
          "schema_version": 1,
          "solution": false
        },
        "id": "MS-fSspjLbZu"
      },
      "source": [
        "## #05 -\n",
        "\n",
        "What was the average score on `Star Rating for how patients rated overall care from agency` for providers listed as having a `Type of Ownership` of `Hospital Based Program`\n",
        "\n",
        "**NOTE: Enter your answer with two decimal precision: 0.00**"
      ]
    },
    {
      "cell_type": "code",
      "execution_count": 19,
      "metadata": {
        "nbgrader": {
          "grade": false,
          "grade_id": "q05-solution",
          "locked": false,
          "schema_version": 1,
          "solution": true
        },
        "id": "ct1KuAxeLbZu",
        "outputId": "a517b224-e9ca-418c-e53b-84a875c29a7d",
        "colab": {
          "base_uri": "https://localhost:8080/"
        }
      },
      "outputs": [
        {
          "output_type": "execute_result",
          "data": {
            "text/plain": [
              "3.6925207756232687"
            ]
          },
          "metadata": {},
          "execution_count": 19
        }
      ],
      "source": [
        "# Write some code to figure it out\n",
        "hhcaps[hhcaps['Type of Ownership'] == 'Hospital Based Program']['Star Rating for how patients rated overall care from agency'].mean()"
      ]
    },
    {
      "cell_type": "code",
      "execution_count": 20,
      "metadata": {
        "nbgrader": {
          "grade": true,
          "grade_id": "q05-test",
          "locked": true,
          "points": 2,
          "schema_version": 1,
          "solution": false
        },
        "id": "N5aVfUbLLbZu"
      },
      "outputs": [],
      "source": [
        "answers['40.5'] = 3.69 # NOTE: Write answer as number in form N.NN (No additional digits)"
      ]
    },
    {
      "cell_type": "markdown",
      "metadata": {
        "id": "DRRRSt8ZLbZv"
      },
      "source": [
        "---\n",
        "\n",
        "Checking Your Work\n",
        "---\n",
        "\n",
        "After completing your work above and running each cell, you can check your answers by running the code below.\n",
        "\n",
        "The easiest way to do this is to use the `Kernel` -> `Restart Kernel and Run All Cells` menu option. This option restarts Python and runs every cell from top to bottom until it encounters an exception of some kind.  It will stop after running the cell below and outputing a summary of how many answers you have correct or incorrect.\n"
      ]
    },
    {
      "cell_type": "code",
      "execution_count": 21,
      "metadata": {
        "id": "aYL-xP1gLbZv",
        "outputId": "914db3a9-88b2-42ed-eaea-5e7dd4cdbd13",
        "colab": {
          "base_uri": "https://localhost:8080/"
        }
      },
      "outputs": [
        {
          "output_type": "stream",
          "name": "stdout",
          "text": [
            "Question 40.1 is CORRECT\n",
            "Question 40.2 is CORRECT\n",
            "Question 40.3 is CORRECT\n",
            "Question 40.4 is CORRECT\n",
            "Question 40.5 is CORRECT\n"
          ]
        }
      ],
      "source": [
        "import pickle\n",
        "\n",
        "data = b\"\\x80\\x04\\x95?\\x00\\x00\\x00\\x00\\x00\\x00\\x00}\\x94(\\x8c\\x0440.1\\x94K'\\x8c\\x0440.2\\x94K7\\x8c\\x0440.3\\x94\\x8c\\x02TX\\x94\\x8c\\x0440.4\\x94\\x8c\\x02ME\\x94\\x8c\\x0440.5\\x94G@\\r\\x85\\x1e\\xb8Q\\xeb\\x85u.\"\n",
        "result = pickle.loads(data)\n",
        "\n",
        "for key in result:\n",
        "  if answers[key] == result[key]:\n",
        "    print(f\"Question {key} is CORRECT\")\n",
        "  else:\n",
        "    print(f\"Question {key} is INCORRECT\")"
      ]
    },
    {
      "cell_type": "markdown",
      "metadata": {
        "id": "r3gT0QfgLbZv"
      },
      "source": [
        "---\n",
        "\n",
        "## Check your work above\n",
        "\n",
        "If you didn't get them all correct, take a few minutes to think through those that aren't correct.\n",
        "\n",
        "\n",
        "## Submitting Your Work\n",
        "\n",
        "In order to submit your work, you'll need to save this notebook file back to GitHub.  To do that in Google Colab:\n",
        "1. File -> Save a Copy in GitHub\n",
        "2. Make sure your HDS5210 repository is selected\n",
        "3. Make sure the file name includes the week number like this: `week14/week14_assignment_1.ipynb`\n",
        "4. Add a commit message that means something\n",
        "\n",
        "**Be sure week names are lowercase and use a two digit week number!!**\n",
        "\n",
        "**Be sure you use the same file name provided by the instructor!!**\n",
        "\n"
      ]
    }
  ],
  "metadata": {
    "celltoolbar": "Create Assignment",
    "kernelspec": {
      "display_name": "Python 3 (ipykernel)",
      "language": "python",
      "name": "python3"
    },
    "language_info": {
      "codemirror_mode": {
        "name": "ipython",
        "version": 3
      },
      "file_extension": ".py",
      "mimetype": "text/x-python",
      "name": "python",
      "nbconvert_exporter": "python",
      "pygments_lexer": "ipython3",
      "version": "3.13.0"
    },
    "colab": {
      "provenance": []
    }
  },
  "nbformat": 4,
  "nbformat_minor": 0
}