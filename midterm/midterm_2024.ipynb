{
  "cells": [
    {
      "cell_type": "markdown",
      "metadata": {
        "id": "obY16bfaOPYE"
      },
      "source": [
        "# HDS5210-2024 Midterm\n",
        "\n",
        "In the midterm, you're going to use all the programming and data management skills you've developed so far to build a risk calculator that pretends to be integrated with a clinical registry.  You'll compute the PRIEST COVID-19 Clinical Severity Score for a series of patients and, based on their risk of an adverse outcome, query a REST web service to find a hospital to transfer them to. The end result of your work will be a list of instructions on where each patient should be discharged given their risk and various characteristics of the patient.\n",
        "\n",
        "Each step in the midterm will build up to form your complete solution.\n",
        "\n",
        "**Make sure you write good docstrings and doctests along the way!!**\n",
        "\n",
        "**The midterm is due at 11:59 PM CST on Monday, October 24th.**\n",
        "\n",
        "---"
      ]
    },
    {
      "cell_type": "markdown",
      "metadata": {
        "id": "HTt2nhhLOPYF"
      },
      "source": [
        "## Step 1: Calculate PRIEST Clinical Severity Score\n",
        "\n",
        "This scoring algorithm can be found [here on the MDCalc website](https://www.mdcalc.com/priest-covid-19-clinical-severity-score#evidence).  \n",
        "\n",
        "1. You will need to write a function called **priest()** with the following input parameters.  \n",
        " * Sex (Gender assigned at birth)\n",
        " * Age in years\n",
        " * Respiratory rate in breaths per minute\n",
        " * Oxygen saturation as a percent between 0 and 1\n",
        " * Heart rate in beats per minute\n",
        " * Systolic BP in mmHg\n",
        " * Temperature in degrees C\n",
        " * Alertness as a string description\n",
        " * Inspired Oxygen as as string description\n",
        " * Performance Status as a string description\n",
        "2. The function will need to follow the algorithm provided on the MDCalc website to compute a risk percentage that should be returned as a numeric value between 0 and 1.\n",
        "3. Be sure to use docstring documentation and at least three built-in docstring test cases.\n",
        "4. Assume that the input values that are strings could be any combination of upper or lower case. For example: 'male', 'Male', 'MALE', 'MalE' should all be interpretted by your code as male.\n",
        "5. If any of the inputs are invalid (for example a sex value that is not recognizable as male or female) your code should return None.\n",
        "\n",
        "NOTES:\n",
        "1. In the final step there is a table that translates from **PRIEST Score** to **30-day probability of an outcome** but the last two probabilities are shown as ranges (59-88% and >99%).  Our code needs to output a single number, however. For our code, use the following rule:\n",
        " * If PRIEST score is between 17 and 25, the probability you return should be 0.59\n",
        " * If PRIEST score is greater than or equal to 26, the probability you return should be 0.99\n"
      ]
    },
    {
      "cell_type": "code",
      "execution_count": 12,
      "metadata": {
        "id": "BHsCs04zOPYG"
      },
      "outputs": [],
      "source": [
        "def priest(sex, age, respiratory_rate, oxygen_saturation, heart_rate, systolic_bp, temperature, alertness, inspired_oxygen, performance_status):\n",
        "    \"\"\"\n",
        "    Calculate the PRIEST Clinical Severity Score based on the provided parameters.\n",
        "\n",
        "    Parameters:\n",
        "    sex, age, respiratory_rate, oxygen_saturation, heart_rate, systolic_bp\n",
        "    temperature, alertness, inspired_oxygen, performance_status\n",
        "\n",
        "    Returns:\n",
        "    int: Total PRIEST score or None if inputs are invalid.\n",
        "\n",
        "    >>> priest('male', 85, 21,0.95, 110, 95,37, 'alert', 'air', 'unrestricted normal activity')\n",
        "    0.34\n",
        "    >>> priest('female',18,21,0.97, 90, 210, 37.2,'alert','air','unrestricted normal activity')\n",
        "    0.02\n",
        "    >>> priest('MALE', 42, 20, 0.94, 109, 111, 36, 'ALERT','air','unrestricted normal activity')\n",
        "    0.03\n",
        "\n",
        "    \"\"\"\n",
        "\n",
        "\n",
        "    if sex.upper() not in ['MALE', 'FEMALE']:\n",
        "        return None\n",
        "\n",
        "    points = 0\n",
        "\n",
        "\n",
        "    if sex.upper() == 'MALE': points += 1\n",
        "\n",
        "    if age < 50: points += 0\n",
        "    elif 50 <= age <= 65: points += 2\n",
        "    elif 66 <= age <= 80: points += 3\n",
        "    elif age >80: points += 4\n",
        "    else: return None\n",
        "\n",
        "    if respiratory_rate < 9: points += 3\n",
        "    elif 9 <= respiratory_rate <= 11: points += 1\n",
        "    elif 12 <= respiratory_rate <= 20: points += 0\n",
        "    elif 21 <= respiratory_rate <= 24: points += 2\n",
        "    elif respiratory_rate > 24: points += 3\n",
        "    else: return None\n",
        "\n",
        "    if oxygen_saturation > 0.95: points += 0\n",
        "    elif 0.94 <= oxygen_saturation <= 0.95: points += 1\n",
        "    elif 0.92 <= oxygen_saturation < 0.94: points += 2\n",
        "    elif oxygen_saturation < 0.92: points += 3\n",
        "    else: return None\n",
        "\n",
        "    if heart_rate < 41: points += 3\n",
        "    elif 41 <= heart_rate <= 50: points += 1\n",
        "    elif 51 <= heart_rate <= 90: points += 0\n",
        "    elif 91 <= heart_rate <= 110: points += 1\n",
        "    elif 111 <= heart_rate <= 130: points += 2\n",
        "    elif heart_rate > 130: points += 3\n",
        "    else: return None\n",
        "\n",
        "    if systolic_bp < 91: points += 3\n",
        "    elif 91 <= systolic_bp <= 100: points += 2\n",
        "    elif 101 <= systolic_bp <= 110: points += 1\n",
        "    elif 111 <= systolic_bp <= 219: points += 0\n",
        "    elif systolic_bp > 219: points += 3\n",
        "    else: return None\n",
        "\n",
        "    if temperature < 35.1: points += 3\n",
        "    elif 35.1 <= temperature <= 36.0: points += 1\n",
        "    elif 36.1 <= temperature <= 38.0: points += 0\n",
        "    elif 38.1 <= temperature <= 39.0: points += 1\n",
        "    elif temperature > 39.0: points += 2\n",
        "    else: return None\n",
        "\n",
        "    if alertness.upper() == 'ALERT': points += 0\n",
        "    elif alertness.upper()  == 'CONFUSED OR NOT ALERT': points += 3\n",
        "    else: return None\n",
        "\n",
        "    inspired_oxygen = inspired_oxygen.lower()\n",
        "    if inspired_oxygen == 'air': points += 0\n",
        "    elif inspired_oxygen == 'supplemental oxygen': points += 2\n",
        "    else: return None\n",
        "\n",
        "    performance_status = performance_status.lower()\n",
        "    if performance_status == 'unrestricted normal activity': points += 0\n",
        "    elif performance_status == 'limited strenuous activity, can do light activity': points += 1\n",
        "    elif performance_status == 'limited activity, can self-care': points += 2\n",
        "    elif performance_status == 'limited self-care': points += 3\n",
        "    elif performance_status == 'bed/chair bound, no self-care': points += 4\n",
        "    else: return None\n",
        "\n",
        "    if 0 <= points <= 1:\n",
        "        risk = 0.01\n",
        "    elif 2 <= points <= 3:\n",
        "        risk = 0.02\n",
        "    elif points == 4:\n",
        "        risk = 0.03\n",
        "    elif points == 5:\n",
        "        risk = 0.09\n",
        "    elif points == 6:\n",
        "        risk = 0.15\n",
        "    elif points == 7:\n",
        "        risk = 0.18\n",
        "    elif points == 8:\n",
        "        risk = 0.22\n",
        "    elif points == 9:\n",
        "        risk = 0.26\n",
        "    elif points == 10:\n",
        "        risk = 0.29\n",
        "    elif points == 11:\n",
        "        risk = 0.34\n",
        "    elif points == 12:\n",
        "        risk = 0.38\n",
        "    elif points == 13:\n",
        "        risk = 0.46\n",
        "    elif points == 14:\n",
        "        risk = 0.47\n",
        "    elif points == 15:\n",
        "        risk = 0.49\n",
        "    elif points == 16:\n",
        "        risk = 0.55\n",
        "    elif 17 <= points <= 25:\n",
        "        risk = 0.59\n",
        "    elif points >= 26:\n",
        "        risk = 0.99\n",
        "\n",
        "    return risk"
      ]
    },
    {
      "cell_type": "code",
      "execution_count": 12,
      "metadata": {
        "id": "GFKG2NalOPYG"
      },
      "outputs": [],
      "source": []
    },
    {
      "cell_type": "code",
      "execution_count": 13,
      "metadata": {
        "id": "nofcJNtNOPYG",
        "outputId": "616405b1-2b01-4cd0-b91e-57adec782cce",
        "colab": {
          "base_uri": "https://localhost:8080/"
        }
      },
      "outputs": [
        {
          "output_type": "stream",
          "name": "stdout",
          "text": [
            "Finding tests in NoName\n",
            "Trying:\n",
            "    priest('male', 85, 21,0.95, 110, 95,37, 'alert', 'air', 'unrestricted normal activity')\n",
            "Expecting:\n",
            "    0.34\n",
            "ok\n",
            "Trying:\n",
            "    priest('female',18,21,0.97, 90, 210, 37.2,'alert','air','unrestricted normal activity')\n",
            "Expecting:\n",
            "    0.02\n",
            "ok\n",
            "Trying:\n",
            "    priest('MALE', 42, 20, 0.94, 109, 111, 36, 'ALERT','air','unrestricted normal activity')\n",
            "Expecting:\n",
            "    0.03\n",
            "ok\n"
          ]
        }
      ],
      "source": [
        "import doctest\n",
        "doctest.run_docstring_examples(priest, globals(),verbose=True)"
      ]
    },
    {
      "cell_type": "markdown",
      "metadata": {
        "id": "9VZbwjNmOPYG"
      },
      "source": [
        "## Part 2: Find a hospital\n",
        "\n",
        "The next thing we have to do is figure out where to send this particular patient.  The guidelines on where to send a patient are based on their age (pediatric, adult, geriatric), sex, and risk percentage.  Luckily, you don't have to implement these rules. I already have. All you have to do is use a REST web service that I've created for you.\n",
        "\n",
        "You'll want to use Python to make a call to my REST web service similar to the example URL below. The first part of the URL will be the same for everyone and every request that you make. What you will need to modify for each of your requests is the information after the question mark.\n",
        "\n",
        "```\n",
        "https://oumdj6oci2.execute-api.us-east-1.amazonaws.com/prd/?age=40&sex=male&risk_pct=0.1\n",
        "```\n",
        "\n",
        "The example above asks my web service where a 40-year old male with a risk of 10% should go.  What the web service will return back is a JSON string containing the information you need.  That JSON will look like this:\n",
        "\n",
        "```json\n",
        "{\n",
        "  \"age\": \"40\",\n",
        "  \"sex\": \"male\",\n",
        "  \"risk\": \"0.1\",\n",
        "  \"hospital\": \"Southwest Hospital and Medical Center\"\n",
        "}\n",
        "```\n",
        "\n",
        "My function is not smart enough to understand `'MALE'` is the same as `'male'`.  You have to send it exactly `'male'` or `'female'`\n",
        "\n",
        "1. Your job is to write a function called **find_hospital()** that takes age, sex, and risk as parameters.\n",
        "2. Your function should call this REST web service using the `requests` module\n",
        "3. Then your function will need to interpret the JSON it gets and return just the name of the hospital\n",
        "4. If anything fails, return None\n",
        "5. Include a good docstring with at least three test cases.\n"
      ]
    },
    {
      "cell_type": "code",
      "source": [
        "import requests\n",
        "import json\n",
        "def find_hospital(age, sex, risk):\n",
        "    \"\"\"\n",
        "    find_hospital sends patient information to the REST web service.\n",
        "    find_hospital takes 3 arguments: sex (string), age (int), and risk (float)\n",
        "\n",
        "    the function returns a string containing the name of the hospital\n",
        "    >>> find_hospital(40,'male',0.1)\n",
        "    'Southwest Hospital and Medical Center'\n",
        "    >>> find_hospital(25,'FEMALE',0.02)\n",
        "    'Select Specialty Hospital - Northeast Atlanta'\n",
        "    >>> find_hospital(85,'male',0.59)\n",
        "    'Wesley Woods Geriatric Hospital'\n",
        "    \"\"\"\n",
        "\n",
        "    sex = sex.lower()\n",
        "    url = f\"https://oumdj6oci2.execute-api.us-east-1.amazonaws.com/prd/?age={age}&sex={sex}&risk_pct={risk}\"\n",
        "\n",
        "    response = requests.get(url)\n",
        "    if response.status_code == 200:\n",
        "        json_file = response.text\n",
        "        json_text = json.loads(json_file)\n",
        "        return json_text['hospital']\n",
        "    else:\n",
        "        return None\n",
        "\n",
        "find_hospital(40,'male',0.1)"
      ],
      "metadata": {
        "id": "9GeXdblBSbvt",
        "outputId": "281a2a60-cd1b-4174-ac51-7c840b67dbbe",
        "colab": {
          "base_uri": "https://localhost:8080/",
          "height": 35
        }
      },
      "execution_count": 14,
      "outputs": [
        {
          "output_type": "execute_result",
          "data": {
            "text/plain": [
              "'Southwest Hospital and Medical Center'"
            ],
            "application/vnd.google.colaboratory.intrinsic+json": {
              "type": "string"
            }
          },
          "metadata": {},
          "execution_count": 14
        }
      ]
    },
    {
      "cell_type": "code",
      "source": [
        "import doctest\n",
        "doctest.run_docstring_examples(find_hospital, globals(),verbose=True)"
      ],
      "metadata": {
        "id": "d60V6lOBmWb3",
        "outputId": "24f2ea37-2d6b-47f3-fc91-f385b25666c5",
        "colab": {
          "base_uri": "https://localhost:8080/"
        }
      },
      "execution_count": 15,
      "outputs": [
        {
          "output_type": "stream",
          "name": "stdout",
          "text": [
            "Finding tests in NoName\n",
            "Trying:\n",
            "    find_hospital(40,'male',0.1)\n",
            "Expecting:\n",
            "    'Southwest Hospital and Medical Center'\n",
            "ok\n",
            "Trying:\n",
            "    find_hospital(25,'FEMALE',0.02)\n",
            "Expecting:\n",
            "    'Select Specialty Hospital - Northeast Atlanta'\n",
            "ok\n",
            "Trying:\n",
            "    find_hospital(85,'male',0.59)\n",
            "Expecting:\n",
            "    'Wesley Woods Geriatric Hospital'\n",
            "ok\n"
          ]
        }
      ]
    },
    {
      "cell_type": "markdown",
      "metadata": {
        "id": "-TTCFnZCOPYH"
      },
      "source": [
        "## Part 3: Get the address for that hospital from a JSON file\n",
        "\n",
        "Great! Now we have code to tell us which hospital to send someone to... but we don't know where that hospital is. The next function we need to create is one that looks up the address of that hospital.  All of these hospitals are in Atlanta, Georgia.  We're going to use the list from this webpage to lookup the address for that hospital, based on its name.  https://www.officialusa.com/stateguides/health/hospitals/georgia.html\n",
        "\n",
        "Because we skipped the section about Beautiful Soup and working with HTML, I've converted this information into a JSON document for you.  It's available for you here.  Your code should retrieve this file using the `requests` module.\n",
        "\n",
        "`https://drive.google.com/uc?export=download&id=1fIFD-NkcdiMu941N4GjyMDWxiKsFJBw-`\n",
        "\n",
        "1. You need to create a function called **get_address()** that takes hospital name as a parameter and searches the data from this JSON file for the hospital you want to find.\n",
        "2. Your code will have to load the JSON and return the correct hospital based on name.\n",
        "3. If the hospital name isn't found, the function should return None.\n",
        "4. Be sure to use good docstring documentation and includes at least 3 test cases."
      ]
    },
    {
      "cell_type": "code",
      "execution_count": 16,
      "metadata": {
        "id": "ltuR4OVhOPYH"
      },
      "outputs": [],
      "source": [
        "import requests\n",
        "import json\n",
        "def get_address(hospital):\n",
        "  \"\"\"\n",
        "  the function get_address takes one argument:\n",
        "  it uses request and json module to look at a json file online and find the address of the hospital\n",
        "  hospital -> string, name of the hospital whose address we want to find\n",
        "\n",
        "  output -> string, address of the hospital\n",
        "\n",
        "  >>> get_address('Southwest Hospital and Medical Center')\n",
        "  '501 FAIRBURN ROAD SW'\n",
        "  >>> get_address(\"PHOEBE PUTNEY MEMORIAL HOSPITAL - NORTH CAMPUS\")\n",
        "  '2000 PALMYRA ROAD'\n",
        "  >>> get_address(\"UNIVERSITY HEALTH CARE SYSTEM\")\n",
        "  '1350 WALTON WAY'\n",
        "  \"\"\"\n",
        "  hospital_data = requests.get('https://drive.google.com/uc?export=download&id=1fIFD-NkcdiMu941N4GjyMDWxiKsFJBw-')\n",
        "  json_text = json.loads(hospital_data.text)\n",
        "\n",
        "  return json_text[hospital.upper()]['ADDRESS']\n",
        "\n"
      ]
    },
    {
      "cell_type": "code",
      "source": [
        "import doctest\n",
        "doctest.run_docstring_examples(get_address, globals(),verbose=True)"
      ],
      "metadata": {
        "id": "nZPi2Be5rJY9",
        "outputId": "c8c2a9f9-1c3e-43b7-969d-33c128c21bf2",
        "colab": {
          "base_uri": "https://localhost:8080/"
        }
      },
      "execution_count": 17,
      "outputs": [
        {
          "output_type": "stream",
          "name": "stdout",
          "text": [
            "Finding tests in NoName\n",
            "Trying:\n",
            "    get_address('Southwest Hospital and Medical Center')\n",
            "Expecting:\n",
            "    '501 FAIRBURN ROAD SW'\n",
            "ok\n",
            "Trying:\n",
            "    get_address(\"PHOEBE PUTNEY MEMORIAL HOSPITAL - NORTH CAMPUS\")\n",
            "Expecting:\n",
            "    '2000 PALMYRA ROAD'\n",
            "ok\n",
            "Trying:\n",
            "    get_address(\"UNIVERSITY HEALTH CARE SYSTEM\")\n",
            "Expecting:\n",
            "    '1350 WALTON WAY'\n",
            "ok\n"
          ]
        }
      ]
    },
    {
      "cell_type": "markdown",
      "metadata": {
        "id": "vu6zDaYWOPYH"
      },
      "source": [
        "## Part 4: Run the risk calculator on a population\n",
        "\n",
        "At the link below, there is a file called `people.psv`.  It is a pipe-delimited (`|`) file with columns that match the inputs for the PRIEST calculation above.  Your code should use the `requests` module to retrieve the file from this URL.\n",
        "\n",
        "`https://drive.google.com/uc?export=download&id=1fLxJN9YGUqmqExrilxSS8furwUER5HHh`\n",
        "\n",
        "\n",
        "In addition, the file has a patient identifier in the first column.\n",
        "\n",
        "1. Write a function called **process_people()** that takes the file location above as its only parameter. Your Python program should use your code above to process all of these rows, determine the hospital and address, and return a list whose items are a dictionary like this: `{ patient_number: [sex, age, breath, o2sat, heart, systolic, temp, alertness, inspired, status, hospital, address]}`.  Look at the file in Part 5 for what the output looks like.\n",
        "2. Be sure to use good docstrings, but you don't need any tests in your doc strings.  I've provided those for you withe file in Part 5.\n",
        "\n",
        "\n",
        "**NOTE** that when running your code for all the 100 records in the `people.psv` file, it may take a few minutes to complete.  You're making multiple calls to the internet for each record, so that can take a little while.\n"
      ]
    },
    {
      "cell_type": "code",
      "execution_count": 18,
      "metadata": {
        "id": "zN-m5agSOPYH"
      },
      "outputs": [],
      "source": [
        "import requests\n",
        "import csv\n",
        "def process_people(file_location):\n",
        "  \"\"\"\n",
        "  process_people() function is used to read a psv file containing patient information\n",
        "  and transform the data into a dictionary containing a list as the value\n",
        "\n",
        "  Arguments:\n",
        "  file_location: a string containing url of the psv file\n",
        "  Returns:\n",
        "  A dictionary containing patient information including risk, hospital, and address of hospital.\n",
        "  The key is the first element of the psv file, the patient number\n",
        "  \"\"\"\n",
        "  psv_request = requests.get(file_location)\n",
        "  psv_text = csv.reader(psv_request.text.splitlines(), delimiter='|')\n",
        "\n",
        "  hospital_list = []\n",
        "  for row in psv_text:\n",
        "    hospital_list.append(row)\n",
        "\n",
        "  hospital_list.pop(0)\n",
        "\n",
        "  final_dictionary = {}\n",
        "  for row in hospital_list:\n",
        "    sex=row[1]\n",
        "    age=int(row[2])\n",
        "    breath=float(row[3])\n",
        "    o2sat=float(row[4])\n",
        "    heart=float(row[5])\n",
        "    systolic=float(row[6])\n",
        "    temp=float(row[7])\n",
        "    alertness=row[8]\n",
        "    inspired=row[9]\n",
        "    status=row[10]\n",
        "\n",
        "    risk = priest(sex, age, breath, o2sat, heart, systolic, temp, alertness, inspired, status)\n",
        "\n",
        "    hospital = find_hospital(age, sex, risk)\n",
        "    #print(sex, age, breath, o2sat, heart, systolic, temp, alertness, inspired, status, risk, hospital)\n",
        "    address = get_address(hospital)\n",
        "\n",
        "    final_dictionary[row[0]] = [sex, age, breath, o2sat, heart, systolic, temp, alertness, inspired, status, risk, hospital, address]\n",
        "\n",
        "  return final_dictionary\n",
        "#process_people('https://drive.google.com/uc?export=download&id=1fLxJN9YGUqmqExrilxSS8furwUER5HHh')"
      ]
    },
    {
      "cell_type": "markdown",
      "metadata": {
        "id": "2Kln75-ZOPYH"
      },
      "source": [
        "## Part 5: Checking your final results\n",
        "\n",
        "The final step is to check your results.  You should be able to compare your results to the output in `people_results.json` at the link below.  Write some code to check your results.  This does not need to be a function.\n",
        "\n",
        "`https://drive.google.com/uc?export=download&id=1gx1SSC20mO5XL6uYD0mdcM_cL91fcIW5`\n"
      ]
    },
    {
      "cell_type": "code",
      "execution_count": 19,
      "metadata": {
        "id": "r7wvvV_lOPYH",
        "colab": {
          "base_uri": "https://localhost:8080/"
        },
        "outputId": "813fe2f4-c05f-4365-968d-d0951e7252c8"
      },
      "outputs": [
        {
          "output_type": "stream",
          "name": "stdout",
          "text": [
            "My results are the same as people.json\n"
          ]
        }
      ],
      "source": [
        "import requests\n",
        "import json\n",
        "\n",
        "my_dictionary = process_people('https://drive.google.com/uc?export=download&id=1fLxJN9YGUqmqExrilxSS8furwUER5HHh')\n",
        "result_request = requests.get('https://drive.google.com/uc?export=download&id=1gx1SSC20mO5XL6uYD0mdcM_cL91fcIW5')\n",
        "result_dictionary = json.loads(result_request.text)\n",
        "if result_request.status_code == 200:\n",
        "  if my_dictionary == result_dictionary:\n",
        "    print('My results are the same as people.json')\n",
        "  else:\n",
        "    print('My results are not the same')\n",
        "else:\n",
        "  print('There was an error requesting the people.json file')"
      ]
    },
    {
      "cell_type": "markdown",
      "metadata": {
        "id": "lY2WfQKGOPYH"
      },
      "source": [
        "---\n",
        "\n",
        "## Check your work above\n",
        "\n",
        "If you didn't get them all correct, take a few minutes to think through those that aren't correct.\n",
        "\n",
        "\n",
        "## Submitting Your Work\n",
        "\n",
        "Submit your work as usual into a folder named `midterm`"
      ]
    },
    {
      "cell_type": "markdown",
      "metadata": {
        "id": "5oVAcHrvOPYH"
      },
      "source": [
        "---"
      ]
    }
  ],
  "metadata": {
    "kernelspec": {
      "display_name": "Python 3",
      "language": "python",
      "name": "python3"
    },
    "language_info": {
      "codemirror_mode": {
        "name": "ipython",
        "version": 3
      },
      "file_extension": ".py",
      "mimetype": "text/x-python",
      "name": "python",
      "nbconvert_exporter": "python",
      "pygments_lexer": "ipython3",
      "version": "3.9.6"
    },
    "colab": {
      "provenance": []
    }
  },
  "nbformat": 4,
  "nbformat_minor": 0
}